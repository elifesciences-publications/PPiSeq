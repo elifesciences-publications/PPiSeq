{
 "cells": [
  {
   "cell_type": "markdown",
   "metadata": {
    "collapsed": true
   },
   "source": [
    "# DMSO_PPiSeq Fitness"
   ]
  },
  {
   "cell_type": "code",
   "execution_count": 1,
   "metadata": {
    "collapsed": true
   },
   "outputs": [],
   "source": [
    "import sys\n",
    "sys.path.insert(1,'/Users/Zhimin/Dropbox/code/BC_Zhimin/')"
   ]
  },
  {
   "cell_type": "code",
   "execution_count": 2,
   "metadata": {
    "collapsed": true
   },
   "outputs": [],
   "source": [
    "import sort_PPI_barcode_count\n",
    "input_file = \"/Volumes/zmliu_02/PPiseq_03/DMSO/counts/known_PPI_fitness_barcodes_filtered_rename.csv\"\n",
    "output_file = \"/Volumes/zmliu_02/PPiseq_03/DMSO/counts/known_PPI_fitness_barcodes_sorted.csv\"\n",
    "genotype_pos = 1\n",
    "barcode_pos = 3\n",
    "fitness_pos = 5\n",
    "distance_pos = 6\n",
    "G0_pos = 7\n",
    "from sort_PPI_barcode_count import sort_PPI_count\n",
    "sort_PPI_count(input_file, genotype_pos, barcode_pos, fitness_pos, distance_pos, G0_pos,output_file)"
   ]
  },
  {
   "cell_type": "markdown",
   "metadata": {},
   "source": [
    "# DMSO_2_PPiSeq Fitness"
   ]
  },
  {
   "cell_type": "code",
   "execution_count": 3,
   "metadata": {
    "collapsed": true
   },
   "outputs": [],
   "source": [
    "import sys\n",
    "sys.path.insert(1,'/Users/Zhimin/Dropbox/code/BC_Zhimin/')\n",
    "import sort_PPI_barcode_count\n",
    "input_file = \"/Volumes/zmliu_02/PPiseq_03/DMSO_2/counts/known_PPI_fitness_barcodes_filtered_rename.csv\"\n",
    "output_file = \"/Volumes/zmliu_02/PPiseq_03/DMSO_2/counts/known_PPI_fitness_barcodes_sorted.csv\"\n",
    "genotype_pos = 1\n",
    "barcode_pos = 3\n",
    "fitness_pos = 5\n",
    "distance_pos = 6\n",
    "G0_pos = 7\n",
    "from sort_PPI_barcode_count import sort_PPI_count\n",
    "sort_PPI_count(input_file, genotype_pos, barcode_pos, fitness_pos, distance_pos, G0_pos,output_file)"
   ]
  },
  {
   "cell_type": "markdown",
   "metadata": {
    "collapsed": true
   },
   "source": [
    "# H2O2_PPiSeq Fitness"
   ]
  },
  {
   "cell_type": "code",
   "execution_count": 4,
   "metadata": {
    "collapsed": true
   },
   "outputs": [],
   "source": [
    "import sys\n",
    "sys.path.insert(1,'/Users/Zhimin/Dropbox/code/BC_Zhimin/')"
   ]
  },
  {
   "cell_type": "code",
   "execution_count": 5,
   "metadata": {
    "collapsed": true
   },
   "outputs": [],
   "source": [
    "import sort_PPI_barcode_count\n",
    "input_file = \"/Volumes/zmliu_02/PPiseq_03/H2O2/counts/known_PPI_fitness_barcodes_filtered_rename.csv\"\n",
    "output_file = \"/Volumes/zmliu_02/PPiseq_03/H2O2/counts/known_PPI_fitness_barcodes_sorted.csv\"\n",
    "genotype_pos = 1\n",
    "barcode_pos = 3\n",
    "fitness_pos = 5\n",
    "distance_pos = 6\n",
    "G0_pos = 7\n",
    "from sort_PPI_barcode_count import sort_PPI_count\n",
    "sort_PPI_count(input_file, genotype_pos, barcode_pos, fitness_pos, distance_pos, G0_pos,output_file)"
   ]
  },
  {
   "cell_type": "markdown",
   "metadata": {
    "collapsed": true
   },
   "source": [
    "# HU_PPiSeq Fitness"
   ]
  },
  {
   "cell_type": "code",
   "execution_count": 6,
   "metadata": {
    "collapsed": true
   },
   "outputs": [],
   "source": [
    "import sys\n",
    "sys.path.insert(1,'/Users/Zhimin/Dropbox/code/BC_Zhimin/')"
   ]
  },
  {
   "cell_type": "code",
   "execution_count": 7,
   "metadata": {
    "collapsed": true
   },
   "outputs": [],
   "source": [
    "import sort_PPI_barcode_count_4_timepoints\n",
    "input_file = \"/Volumes/zmliu_02/PPiseq_03/HU/counts/known_PPI_fitness_barcodes_filtered_rename.csv\"\n",
    "output_file = \"/Volumes/zmliu_02/PPiseq_03/HU/counts/known_PPI_fitness_barcodes_sorted.csv\"\n",
    "genotype_pos = 1\n",
    "barcode_pos = 3\n",
    "fitness_pos = 5\n",
    "distance_pos = 6\n",
    "G0_pos = 7\n",
    "from sort_PPI_barcode_count_4_timepoints import sort_PPI_count\n",
    "sort_PPI_count(input_file, genotype_pos, barcode_pos, fitness_pos, distance_pos, G0_pos,output_file)"
   ]
  },
  {
   "cell_type": "markdown",
   "metadata": {
    "collapsed": true
   },
   "source": [
    "# DOX_PPiSeq Fitness"
   ]
  },
  {
   "cell_type": "code",
   "execution_count": 8,
   "metadata": {
    "collapsed": true
   },
   "outputs": [],
   "source": [
    "import sys\n",
    "sys.path.insert(1,'/Users/Zhimin/Dropbox/code/BC_Zhimin/')"
   ]
  },
  {
   "cell_type": "code",
   "execution_count": 9,
   "metadata": {
    "collapsed": true
   },
   "outputs": [],
   "source": [
    "import sort_PPI_barcode_count_4_timepoints\n",
    "input_file = \"/Volumes/zmliu_02/PPiseq_03/Dox/counts/known_PPI_fitness_barcodes_filtered_rename.csv\"\n",
    "output_file = \"/Volumes/zmliu_02/PPiseq_03/Dox/counts/known_PPI_fitness_barcodes_sorted.csv\"\n",
    "genotype_pos = 1\n",
    "barcode_pos = 3\n",
    "fitness_pos = 5\n",
    "distance_pos = 6\n",
    "G0_pos = 7\n",
    "from sort_PPI_barcode_count_4_timepoints import sort_PPI_count\n",
    "sort_PPI_count(input_file, genotype_pos, barcode_pos, fitness_pos, distance_pos, G0_pos,output_file)"
   ]
  },
  {
   "cell_type": "markdown",
   "metadata": {
    "collapsed": true
   },
   "source": [
    "# Forskolin_PPiSeq Fitness"
   ]
  },
  {
   "cell_type": "code",
   "execution_count": 14,
   "metadata": {
    "collapsed": true
   },
   "outputs": [],
   "source": [
    "import sys\n",
    "sys.path.insert(1,'/Users/Zhimin/Dropbox/code/BC_Zhimin/')"
   ]
  },
  {
   "cell_type": "code",
   "execution_count": 15,
   "metadata": {
    "collapsed": true
   },
   "outputs": [],
   "source": [
    "import sort_PPI_barcode_count_4_timepoints\n",
    "input_file = \"/Volumes/zmliu_02/PPiseq_03/Forskolin/counts/known_PPI_fitness_barcodes_filtered_rename.csv\"\n",
    "output_file = \"/Volumes/zmliu_02/PPiseq_03/Forskolin/counts/known_PPI_fitness_barcodes_sorted.csv\"\n",
    "genotype_pos = 1\n",
    "barcode_pos = 3\n",
    "fitness_pos = 5\n",
    "distance_pos = 6\n",
    "G0_pos = 7\n",
    "from sort_PPI_barcode_count_4_timepoints import sort_PPI_count\n",
    "sort_PPI_count(input_file, genotype_pos, barcode_pos, fitness_pos, distance_pos, G0_pos,output_file)"
   ]
  },
  {
   "cell_type": "markdown",
   "metadata": {
    "collapsed": true
   },
   "source": [
    "# Raffinose_PPiSeq Fitness"
   ]
  },
  {
   "cell_type": "code",
   "execution_count": 10,
   "metadata": {
    "collapsed": true
   },
   "outputs": [],
   "source": [
    "import sys\n",
    "sys.path.insert(1,'/Users/Zhimin/Dropbox/code/BC_Zhimin/')"
   ]
  },
  {
   "cell_type": "code",
   "execution_count": 11,
   "metadata": {
    "collapsed": true
   },
   "outputs": [],
   "source": [
    "import sort_PPI_barcode_count_4_timepoints\n",
    "input_file = \"/Volumes/zmliu_02/PPiseq_03/Raffinose/counts/known_PPI_fitness_barcodes_filtered_rename.csv\"\n",
    "output_file = \"/Volumes/zmliu_02/PPiseq_03/Raffinose/counts/known_PPI_fitness_barcodes_sorted.csv\"\n",
    "genotype_pos = 1\n",
    "barcode_pos = 3\n",
    "fitness_pos = 5\n",
    "distance_pos = 6\n",
    "G0_pos = 7\n",
    "from sort_PPI_barcode_count_4_timepoints import sort_PPI_count\n",
    "sort_PPI_count(input_file, genotype_pos, barcode_pos, fitness_pos, distance_pos, G0_pos,output_file)"
   ]
  },
  {
   "cell_type": "markdown",
   "metadata": {
    "collapsed": true
   },
   "source": [
    "# NaCl_0.4M_PPiSeq Fitness"
   ]
  },
  {
   "cell_type": "code",
   "execution_count": 2,
   "metadata": {
    "collapsed": true
   },
   "outputs": [],
   "source": [
    "import sys\n",
    "sys.path.insert(1,'/Users/Zhimin/Dropbox/code/BC_Zhimin/')"
   ]
  },
  {
   "cell_type": "code",
   "execution_count": 3,
   "metadata": {
    "collapsed": true
   },
   "outputs": [],
   "source": [
    "import sort_PPI_barcode_count_4_timepoints\n",
    "input_file = \"/Volumes/zmliu_02/PPiseq_03/NaCl_0.4M/counts/known_PPI_fitness_barcodes_filtered_rename.csv\"\n",
    "output_file = \"/Volumes/zmliu_02/PPiseq_03/NaCl_0.4M/counts/known_PPI_fitness_barcodes_sorted.csv\"\n",
    "genotype_pos = 1\n",
    "barcode_pos = 3\n",
    "fitness_pos = 5\n",
    "distance_pos = 6\n",
    "G0_pos = 7\n",
    "from sort_PPI_barcode_count_4_timepoints import sort_PPI_count\n",
    "sort_PPI_count(input_file, genotype_pos, barcode_pos, fitness_pos, distance_pos, G0_pos,output_file)"
   ]
  },
  {
   "cell_type": "markdown",
   "metadata": {
    "collapsed": true
   },
   "source": [
    "# 16C_PPiSeq Fitness"
   ]
  },
  {
   "cell_type": "code",
   "execution_count": 1,
   "metadata": {
    "collapsed": true
   },
   "outputs": [],
   "source": [
    "import sys\n",
    "sys.path.insert(1,'/Users/Zhimin/Dropbox/code/BC_Zhimin/')"
   ]
  },
  {
   "cell_type": "code",
   "execution_count": 2,
   "metadata": {
    "collapsed": true
   },
   "outputs": [],
   "source": [
    "import sort_PPI_barcode_count_4_timepoints\n",
    "input_file = \"/Volumes/zmliu_02/PPiseq_03/16C/counts/known_PPI_fitness_barcodes_filtered_rename.csv\"\n",
    "output_file = \"/Volumes/zmliu_02/PPiseq_03/16C/counts/known_PPI_fitness_barcodes_sorted.csv\"\n",
    "genotype_pos = 1\n",
    "barcode_pos = 3\n",
    "fitness_pos = 5\n",
    "distance_pos = 6\n",
    "G0_pos = 7\n",
    "from sort_PPI_barcode_count_4_timepoints import sort_PPI_count\n",
    "sort_PPI_count(input_file, genotype_pos, barcode_pos, fitness_pos, distance_pos, G0_pos,output_file)"
   ]
  },
  {
   "cell_type": "markdown",
   "metadata": {
    "collapsed": true
   },
   "source": [
    "# FK506_PPiSeq Fitness"
   ]
  },
  {
   "cell_type": "code",
   "execution_count": 12,
   "metadata": {
    "collapsed": true
   },
   "outputs": [],
   "source": [
    "import sys\n",
    "sys.path.insert(1,'/Users/Zhimin/Dropbox/code/BC_Zhimin/')"
   ]
  },
  {
   "cell_type": "code",
   "execution_count": 13,
   "metadata": {
    "collapsed": true
   },
   "outputs": [],
   "source": [
    "import sort_PPI_barcode_count_4_timepoints\n",
    "input_file = \"/Volumes/zmliu_02/PPiseq_03/FK506/counts/known_PPI_fitness_barcodes_filtered_rename.csv\"\n",
    "output_file = \"/Volumes/zmliu_02/PPiseq_03/FK506/counts/known_PPI_fitness_barcodes_sorted.csv\"\n",
    "genotype_pos = 1\n",
    "barcode_pos = 3\n",
    "fitness_pos = 5\n",
    "distance_pos = 6\n",
    "G0_pos = 7\n",
    "from sort_PPI_barcode_count_4_timepoints import sort_PPI_count\n",
    "sort_PPI_count(input_file, genotype_pos, barcode_pos, fitness_pos, distance_pos, G0_pos,output_file)"
   ]
  },
  {
   "cell_type": "markdown",
   "metadata": {
    "collapsed": true
   },
   "source": [
    "# DMSO merged fitness"
   ]
  },
  {
   "cell_type": "code",
   "execution_count": 8,
   "metadata": {},
   "outputs": [],
   "source": [
    "import sys\n",
    "sys.path.insert(1,'/Users/Zhimin/Dropbox/code/BC_Zhimin/')\n",
    "import sort_PPI_barcode_count\n",
    "input_file = \"/Volumes/zmliu_02/PPiseq_03/DMSO_merge/counts/SD_merged_PPI_barcodes.csv\"\n",
    "output_file = \"/Volumes/zmliu_02/PPiseq_03/DMSO_merge/counts/known_PPI_fitness_barcodes_sorted.csv\"\n",
    "genotype_pos = 1\n",
    "barcode_pos = 3\n",
    "fitness_pos = 5\n",
    "distance_pos = 6\n",
    "G0_pos = 7\n",
    "from sort_PPI_barcode_count import sort_PPI_count\n",
    "sort_PPI_count(input_file, genotype_pos, barcode_pos, fitness_pos, distance_pos, G0_pos,output_file)"
   ]
  }
 ],
 "metadata": {
  "kernelspec": {
   "display_name": "Python 3",
   "language": "python",
   "name": "python3"
  },
  "language_info": {
   "codemirror_mode": {
    "name": "ipython",
    "version": 3
   },
   "file_extension": ".py",
   "mimetype": "text/x-python",
   "name": "python",
   "nbconvert_exporter": "python",
   "pygments_lexer": "ipython3",
   "version": "3.6.3"
  }
 },
 "nbformat": 4,
 "nbformat_minor": 2
}
