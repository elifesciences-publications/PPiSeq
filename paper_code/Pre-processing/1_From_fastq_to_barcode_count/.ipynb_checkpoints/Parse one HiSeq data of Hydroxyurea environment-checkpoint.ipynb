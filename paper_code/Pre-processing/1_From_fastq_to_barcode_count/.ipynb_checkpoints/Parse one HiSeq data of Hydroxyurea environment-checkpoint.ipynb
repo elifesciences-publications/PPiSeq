{
 "cells": [
  {
   "cell_type": "code",
   "execution_count": 2,
   "metadata": {
    "collapsed": true
   },
   "outputs": [],
   "source": [
    "directory = \"/Directory/to/HiSeq_data/\" #directory where files are read and saved\n",
    "f_gzipped_fastqfile = \"ZL21_USPD16090543_HTMTTCCXY_L3_1.fq.gz\" #The forward reads, gzip file\n",
    "r_gzipped_fastqfile = \"ZL21_USPD16090543_HTMTTCCXY_L3_2.fq.gz\" #The reverse reads, gzip file\n",
    "q = \"fastq\" #the type of fastq file coming off of the sequencer, what format are the quality scores?\n",
    "f_seqtag_length = 8 #the length of the sequencing tag on the first read (UMI1)\n",
    "r_seqtag_length = 8 #the length of the sequencing tag on the second read (UMI2)\n",
    "f_multitag_length = 6 #the length of the multiplexing tag on the first read\n",
    "r_multitag_length = 6 #the length of the multiplexing tag on the second read\n",
    "f_lintag_length = 38 #the length of the lineage tag on the first read (first barcode)\n",
    "r_lintag_length = 38 #the length of the lineage tag on the second read (second barcode)\n",
    "f_spacer_length = 43 #distance to first barcode in forward read, not including the multitag and the seqtag\n",
    "r_spacer_length = 29 #distance second barcode in reverse read, not including the multitag and the seqtag\n",
    "min_qs = 30 #the minimum avareage quality score for both lineage tags\n",
    "lintag_grep_filter1 ='\\D*?(.ACC|T.CC|TA.C|TAC.)\\D{4,7}?AA\\D{4,7}?TT\\D{4,7}?TT\\D{4,7}?(.TAA|A.AA|AT.A|ATA.)\\D*' #first barcode\n",
    "lintag_grep_filter2 ='\\D*?(.ACC|T.CC|TA.C|TAC.)\\D{4,7}?AA\\D{4,7}?AA\\D{4,7}?TT\\D{4,7}?(.TAC|T.AC|TT.C|TTA.)\\D*' #second barcode\n",
    "clip_ends = 1 #logical of whether or not to clip the front and back ends off of lintag1 and lintag2\n",
    "lintag1_front_clipper = '(.ACC|T.CC|TA.C|TAC.)' #only report lintag1 after this sequence\n",
    "lintag2_front_clipper = '(.ACC|T.CC|TA.C|TAC.)' #only report lintag2 after this sequence\n",
    "lintag1_rear_clipper = '(.ATA|A.TA|AA.A|AAT.)' #only report lintag1 before this sequence, this must be the REVERSE of the true sequence\n",
    "lintag2_rear_clipper = '(.ATT|C.TT|CA.T|CAT.)' #only report lintag2 before this sequence, this must be the REVERSE of the true sequence\n",
    "multitags = [\"AGTGATGATCTG\", \"TTCGGTGCTTAA\", \"CGCATACACCGA\", \"CAAGAAAGGGTT\", \"CATAGGGTATTG\"] #concatenated multiplexing tags from the first and second reads that uniquely identify a sample, currently must have 2 or more multitags\n",
    "write_multitags = True #True will write multitags for all reads, otherwise only multitags for unmatched reads will be written\n",
    "cores = 12 #the number of processors\n",
    "frequency_cutoff = 1 #clusters less than this number of reads under this cutoff will not be reported by bartender"
   ]
  },
  {
   "cell_type": "code",
   "execution_count": null,
   "metadata": {},
   "outputs": [
    {
     "name": "stdout",
     "output_type": "stream",
     "text": [
      "Loading ZL21_USPD16090543_HTMTTCCXY_L3_1.fq.gz and ZL21_USPD16090543_HTMTTCCXY_L3_2.fq.gz and parsing\n",
      "Saving the combined forward and reverse sequencing tags as seqtag.txt\n",
      "Saving the combined forward and reverse multiplexing tags  as multitag.txt\n",
      "Saving the first lineage tag as lintag1.txt\n",
      "Saving the first lineage tag as lintag2.txt\n"
     ]
    }
   ],
   "source": [
    "import BC\n",
    "BC.count(directory, f_gzipped_fastqfile, r_gzipped_fastqfile,\n",
    "      q = \"fastq\",\n",
    "      f_seqtag_length = 8,\n",
    "      r_seqtag_length = 8,\n",
    "      f_multitag_length = 6,\n",
    "      r_multitag_length = 6,\n",
    "      f_lintag_length = 38,\n",
    "      r_lintag_length = 38, \n",
    "      f_spacer_length = 43, #distance to first barcode in forward read (ignoring the length the thie multitag and the seqtag)\n",
    "      r_spacer_length = 29, #distance second barcode in reverse read (ignoring the length the thie multitag and the seqtag)\n",
    "      min_qs = 30, #the minimum avareage quality score for both lineage tags\n",
    "      lintag_grep_filter1 = lintag_grep_filter1, #first barcode\n",
    "      lintag_grep_filter2 = lintag_grep_filter2, #second barcode\n",
    "      clip_ends = 1, #logical of whether or not to clip the front and back ends off of lintag1 and lintag2\n",
    "      lintag1_front_clipper = lintag1_front_clipper, #only report lintag1 after this sequence\n",
    "      lintag2_front_clipper = lintag2_front_clipper, #only report lintag2 after this sequence\n",
    "      lintag1_rear_clipper = lintag1_rear_clipper, #only report lintag1 before this sequence, this must be the COMPLIMENT of the true sequence\n",
    "      lintag2_rear_clipper = lintag2_rear_clipper, #only report lintag2 before this sequence, this must be the COMPLIMENT of the true sequence\n",
    "      multitags = multitags, #concatenated multiplexing tags from the first and second reads that uniquely identify a sample, currently must have 2 or more multitags\n",
    "      write_multitags = True, #True will write multitags for all reads, otherwise only multitags for unmatched reads will be written\n",
    "      merged_output = False, #True will merge double barcodes into one barcode and treat these as single barcodes\n",
    "      cores = 12, #the number of processors\n",
    "      frequency_cutoff = 1) #clusters less than this number of reads under this cutoff will not be reported by bartendder"
   ]
  },
  {
   "cell_type": "code",
   "execution_count": null,
   "metadata": {
    "collapsed": true
   },
   "outputs": [],
   "source": []
  }
 ],
 "metadata": {
  "kernelspec": {
   "display_name": "Python 3",
   "language": "python",
   "name": "python3"
  },
  "language_info": {
   "codemirror_mode": {
    "name": "ipython",
    "version": 3
   },
   "file_extension": ".py",
   "mimetype": "text/x-python",
   "name": "python",
   "nbconvert_exporter": "python",
   "pygments_lexer": "ipython3",
   "version": "3.6.3"
  }
 },
 "nbformat": 4,
 "nbformat_minor": 2
}
