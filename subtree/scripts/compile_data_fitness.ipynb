{
 "cells": [
  {
   "cell_type": "code",
   "execution_count": null,
   "metadata": {},
   "outputs": [],
   "source": [
    "import numpy as np\n",
    "import pandas as pd\n",
    "import glob\n",
    "import sqlite3\n",
    "import re\n",
    "import os\n",
    "import resource"
   ]
  },
  {
   "cell_type": "code",
   "execution_count": null,
   "metadata": {},
   "outputs": [],
   "source": [
    "def read_fitness(csv_path,positive_string=\"positive\",negative_string=\"negative\"):\n",
    "    base_name = re.sub(\"_mean_fitness_positive.csv\",\"\",os.path.basename(csv_path))\n",
    "    print(\"Beginning to read and process fitnesses of \",base_name)\n",
    "    this_datar = pd.read_csv(csv_path)\\\n",
    "        [[\"PPI\",\"Mean_fitness\",\"sd\",\"Positive\"]]\n",
    "    print(\"Shape {}\".format(this_datar.shape))\n",
    "    positive_mean_fitness = this_datar.loc[this_datar['PPI']\\\n",
    "        .str.contains(positive_string)].filter(regex=\"Mean_fitness\").mean()[0]\n",
    "    negative_mean_fitness = this_datar.loc[this_datar['PPI']\\\n",
    "        .str.contains(negative_string)].filter(regex=\"Mean_fitness\").mean()[0]\n",
    "    print(\"Calculate negative fitness of\",negative_mean_fitness,\\\n",
    "        \"and positive of\",positive_mean_fitness)\n",
    "    print(\"Mean mean fitness before is\",this_datar[\"Mean_fitness\"].mean())\n",
    "    this_datar[\"Normalized_Fitness\"] = this_datar[\"Mean_fitness\"]\\\n",
    "        .apply(lambda x: (x-negative_mean_fitness)/(positive_mean_fitness-negative_mean_fitness))\n",
    "    print(\"Mean mean fitness after is\",this_datar[\"Normalized_Fitness\"].mean())\n",
    "    this_datar[\"ORF1\"], this_datar[\"ORF2\"] = this_datar[\"PPI\"].str.split(\"_\",1).str\n",
    "    this_datar[\"Experiment\"] = base_name\n",
    "    return this_datar"
   ]
  },
  {
   "cell_type": "code",
   "execution_count": null,
   "metadata": {},
   "outputs": [],
   "source": [
    "print(\"Opening a SQLite database at `fitness.sqlite` \")\n",
    "db_fitness = sqlite3.connect(\"fitness.sqlite\")"
   ]
  },
  {
   "cell_type": "code",
   "execution_count": null,
   "metadata": {},
   "outputs": [],
   "source": [
    "for this_csv in glob.glob('*positive.csv'):\n",
    "    with db_fitness:\n",
    "        read_fitness(this_csv,positive_string=\"positive\",negative_string=\"negative\")\\\n",
    "            .to_sql(\"fitness\",db_fitness,if_exists=\"append\")"
   ]
  },
  {
   "cell_type": "code",
   "execution_count": null,
   "metadata": {},
   "outputs": [],
   "source": [
    "print(\"Database on disk reports these heads for fitness:\")\n",
    "print(pd.read_sql_query(\"SELECT * FROM fitness LIMIT 5\",db_fitness))"
   ]
  },
  {
   "cell_type": "code",
   "execution_count": null,
   "metadata": {},
   "outputs": [],
   "source": [
    "db_fitness.execute(\" \\\n",
    "        CREATE TABLE n_positive AS \\\n",
    "        SELECT DISTINCT PPI,npos,\\\n",
    "                        SUBSTR(PPI,1,INSTR(PPI,'_')-1) AS ORF1,\\\n",
    "                        SUBSTR(PPI,INSTR(PPI,'_')+1,LENGTH(PPI)) AS ORF2 \\\n",
    "                        FROM \\\n",
    "            (SELECT PPI,ORF1,ORF2,npos FROM \\\n",
    "                (SELECT PPI,ORF1,ORF2,SUM(Positive) AS npos FROM \\\n",
    "                    ( SELECT PPI,ORF1,ORF2,Positive FROM \\\n",
    "                        fitness \\\n",
    "                        WHERE ORF1 like 'Y%' \\\n",
    "                        AND   ORF2 like 'Y%' \\\n",
    "                        AND   Experiment != 'SD2' \\\n",
    "                        AND   Experiment != 'SD' \\\n",
    "                        ) \\\n",
    "                    GROUP BY PPI \\\n",
    "                    ) \\\n",
    "                WHERE npos > 0 \\\n",
    "                ) \\\n",
    "    \")"
   ]
  },
  {
   "cell_type": "code",
   "execution_count": null,
   "metadata": {},
   "outputs": [],
   "source": [
    "print(\"Database on disk reports these heads for n_positive:\")\n",
    "print(pd.read_sql_query(\"SELECT * FROM n_positive LIMIT 5\",db_fitness))"
   ]
  },
  {
   "cell_type": "code",
   "execution_count": null,
   "metadata": {},
   "outputs": [],
   "source": [
    "db_fitness.execute(\"\\\n",
    "        CREATE TABLE yorf_list AS \\\n",
    "            SELECT DISTINCT * \\\n",
    "            FROM ( \\\n",
    "                SELECT ORF1 AS YORF FROM fitness \\\n",
    "                UNION \\\n",
    "                SELECT ORF2 AS YORF FROM fitness \\\n",
    "                ) \\\n",
    "            WHERE YORF LIKE 'Y%' \\\n",
    "    \")"
   ]
  },
  {
   "cell_type": "code",
   "execution_count": null,
   "metadata": {},
   "outputs": [],
   "source": [
    "print(\"Database on disk reports these heads for yorf_list:\")\n",
    "print(pd.read_sql_query(\"SELECT * FROM yorf_list LIMIT 5\",db_fitness))"
   ]
  },
  {
   "cell_type": "code",
   "execution_count": null,
   "metadata": {},
   "outputs": [],
   "source": [
    "db_fitness.execute(\"CREATE INDEX n_positive_PPI_index ON n_positive (PPI)\")\n",
    "db_fitness.execute(\"CREATE INDEX fitness_PPI_index ON fitness (PPI)\")"
   ]
  }
 ],
 "metadata": {
  "kernelspec": {
   "display_name": "Python 3",
   "language": "python",
   "name": "python3"
  },
  "language_info": {
   "codemirror_mode": {
    "name": "ipython",
    "version": 3
   },
   "file_extension": ".py",
   "mimetype": "text/x-python",
   "name": "python",
   "nbconvert_exporter": "python",
   "pygments_lexer": "ipython3",
   "version": "3.6.9"
  }
 },
 "nbformat": 4,
 "nbformat_minor": 2
}
