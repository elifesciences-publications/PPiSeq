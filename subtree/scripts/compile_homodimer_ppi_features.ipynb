{
 "cells": [
  {
   "cell_type": "code",
   "execution_count": null,
   "metadata": {},
   "outputs": [],
   "source": [
    "import numpy as np\n",
    "import pandas as pd\n",
    "import sqlite3\n",
    "import os\n",
    "import csv"
   ]
  },
  {
   "cell_type": "code",
   "execution_count": null,
   "metadata": {},
   "outputs": [],
   "source": [
    "db_bd = sqlite3.connect(\"homodimer_ppi_features.sqlite\")\n",
    "\n",
    "with db_bd:\n",
    "    db_bd.execute('ATTACH DATABASE \"features.sqlite\" AS features')\n",
    "    db_bd.execute(\"ATTACH DATABASE 'localization_data.sqlite' AS localization\")\n",
    "    db_bd.execute('ATTACH DATABASE \"orf_features.sqlite\" AS orf_features')"
   ]
  },
  {
   "cell_type": "code",
   "execution_count": null,
   "metadata": {},
   "outputs": [],
   "source": [
    "with db_bd:\n",
    "    pd.read_csv(\"explained_ppis_modeling.csv\").to_sql(\"homodimer_ppi_features\",db_bd)"
   ]
  },
  {
   "cell_type": "code",
   "execution_count": null,
   "metadata": {},
   "outputs": [],
   "source": [
    "print(pd.read_sql_query(\"SELECT * FROM ohnologs limit 5\",db_bd))\n",
    "print(pd.read_sql_query(\"SELECT * FROM marchant_paralogs limit 5\",db_bd))\n",
    "print(pd.read_sql_query(\"SELECT * FROM homologs limit 5\",db_bd))\n",
    "print(pd.read_sql_query(\"SELECT * FROM localization_jacard limit 5\",db_bd))\n",
    "print(pd.read_sql_query(\"SELECT * FROM per_orf limit 5\",db_bd))"
   ]
  },
  {
   "cell_type": "code",
   "execution_count": null,
   "metadata": {},
   "outputs": [],
   "source": [
    "with db_bd:\n",
    "    db_bd.execute(\"\"\"\n",
    "        CREATE TABLE per_ppi AS\n",
    "        SELECT * FROM (\n",
    "            SELECT DISTINCT PPI,ORF1,ORF2,Explained,estimate,stderr,tvalue,pvalue,qvalz,r_squared,pearson \n",
    "            FROM homodimer_ppi_features\n",
    "            )\n",
    "        LEFT OUTER JOIN\n",
    "            homologs\n",
    "        USING (ORF1,ORF2)\n",
    "        LEFT OUTER JOIN\n",
    "            marchant_paralogs\n",
    "        USING (ORF1,ORF2)\n",
    "        LEFT OUTER JOIN\n",
    "            ohnologs\n",
    "        USING (ORF1,ORF2)\n",
    "        LEFT OUTER JOIN\n",
    "            localization_jacard\n",
    "        USING (ORF1,ORF2)\n",
    "        \"\"\")\n",
    "\n",
    "#db_bd.execute(\"DROP TABLE per_ppi\")"
   ]
  },
  {
   "cell_type": "code",
   "execution_count": null,
   "metadata": {},
   "outputs": [],
   "source": [
    "print(pd.read_sql_query(\"SELECT * FROM per_ppi WHERE Duplication is 'SSD' limit 50\",db_bd))\n",
    "# So there's none from the marchant set that are SSDs, just WGDs"
   ]
  },
  {
   "cell_type": "code",
   "execution_count": null,
   "metadata": {},
   "outputs": [],
   "source": [
    "with db_bd:\n",
    "    db_bd.execute(\"\"\"\n",
    "        CREATE TABLE homodimer_features AS\n",
    "        SELECT * FROM \n",
    "            ( SELECT * FROM per_ppi \n",
    "            LEFT OUTER JOIN \n",
    "                ( SELECT *,YORF AS ORF1 FROM per_orf )\n",
    "            USING (ORF1)\n",
    "            )\n",
    "        UNION\n",
    "        SELECT * FROM \n",
    "            ( SELECT * FROM per_ppi \n",
    "            LEFT OUTER JOIN \n",
    "                ( SELECT *,YORF AS ORF2 FROM per_orf )\n",
    "            USING (ORF2)\n",
    "            )\n",
    "        \"\"\")"
   ]
  },
  {
   "cell_type": "code",
   "execution_count": null,
   "metadata": {},
   "outputs": [],
   "source": [
    "print(pd.read_sql_query(\"SELECT * FROM homodimer_features limit 5\",db_bd))"
   ]
  },
  {
   "cell_type": "code",
   "execution_count": null,
   "metadata": {},
   "outputs": [],
   "source": [
    "with db_bd:\n",
    "    db_bd.execute(\"\\\n",
    "        UPDATE homodimer_features \\\n",
    "            SET ohnolog = 0 \\\n",
    "            WHERE ohnolog IS NULL \\\n",
    "        \")\n",
    "    db_bd.execute(\"\\\n",
    "        UPDATE homodimer_features \\\n",
    "            SET homolog = 0 \\\n",
    "            WHERE homolog IS NULL \\\n",
    "        \")\n",
    "    db_bd.execute(\"\\\n",
    "        UPDATE homodimer_features \\\n",
    "            SET Colocalization = 0 \\\n",
    "            WHERE Colocalization IS NULL \\\n",
    "        \")"
   ]
  },
  {
   "cell_type": "code",
   "execution_count": null,
   "metadata": {},
   "outputs": [],
   "source": []
  },
  {
   "cell_type": "code",
   "execution_count": null,
   "metadata": {},
   "outputs": [],
   "source": [
    "pd.read_sql_query(\"\\\n",
    "    SELECT DISTINCT * FROM homodimer_features \\\n",
    "    \",db_bd).iloc[0,]"
   ]
  },
  {
   "cell_type": "code",
   "execution_count": null,
   "metadata": {},
   "outputs": [],
   "source": []
  },
  {
   "cell_type": "code",
   "execution_count": null,
   "metadata": {},
   "outputs": [],
   "source": [
    "db_bd.close()"
   ]
  }
 ],
 "metadata": {
  "kernelspec": {
   "display_name": "Python 3",
   "language": "python",
   "name": "python3"
  },
  "language_info": {
   "codemirror_mode": {
    "name": "ipython",
    "version": 3
   },
   "file_extension": ".py",
   "mimetype": "text/x-python",
   "name": "python",
   "nbconvert_exporter": "python",
   "pygments_lexer": "ipython3",
   "version": "3.6.9"
  }
 },
 "nbformat": 4,
 "nbformat_minor": 2
}
