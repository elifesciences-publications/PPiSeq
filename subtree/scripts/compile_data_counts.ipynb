{
 "cells": [
  {
   "cell_type": "code",
   "execution_count": null,
   "metadata": {},
   "outputs": [],
   "source": [
    "import numpy as np\n",
    "import pandas as pd\n",
    "import glob\n",
    "import sqlite3\n",
    "import re\n",
    "import os\n",
    "import resource"
   ]
  },
  {
   "cell_type": "code",
   "execution_count": null,
   "metadata": {},
   "outputs": [],
   "source": [
    "def read_counts(csv_path):\n",
    "    base_name = re.sub(\"_PPI_barcodes_fitness_counts.csv\",\"\",os.path.basename(csv_path))\n",
    "    print(\"Beginning to read and process counts of \",base_name)\n",
    "    this_datar = pd.read_csv(csv_path)\n",
    "    print(\"Read CSV for \",base_name)\n",
    "    this_datar.rename(columns={\n",
    "            \"Fitness_estimaion_error(d)\":\"Error\",\n",
    "            \"Fitness_estimaion_error\":\"Error\"\n",
    "        },inplace=True)\n",
    "    this_datar.rename(columns=lambda x: re.sub(\"Counts_G\",\"\",x),inplace=True)\n",
    "    this_datar = this_datar.melt(id_vars=[\"PPI\"], value_vars=this_datar.filter(regex=\"\\d+\").columns)\n",
    "    this_datar.rename(columns={\"value\":\"counts\",\"variable\":\"generation\"},inplace=True)\n",
    "    print(\"Melted for \",base_name)\n",
    "    this_datar[\"Experiment\"] = base_name\n",
    "    print(this_datar)\n",
    "    return this_datar\n",
    "#,nrows=100)\\\n",
    "#for debugging, this makes it run quite a bit faster..."
   ]
  },
  {
   "cell_type": "code",
   "execution_count": null,
   "metadata": {},
   "outputs": [],
   "source": [
    "print(\"Opening a SQLite database at `counts.sqlite` \")\n",
    "db_counts = sqlite3.connect(\"counts.sqlite\")\n",
    "\n",
    "for this_csv in glob.glob('*_PPI_*.csv'):\n",
    "    with db_counts:\n",
    "        print('Memory usage: %s (kb)' % resource.getrusage(resource.RUSAGE_SELF).ru_maxrss)\n",
    "        read_counts(this_csv)\\\n",
    "            .to_sql(\"counts\",db_counts,if_exists=\"append\",chunksize=100,index=False)\n",
    "\n",
    "print(\"Database on disk reports these heads for counts:\")\n",
    "#print(pd.read_sql_query(\"SELECT * FROM counts LIMIT 5\",db_counts))"
   ]
  }
 ],
 "metadata": {
  "kernelspec": {
   "display_name": "Python 3",
   "language": "python",
   "name": "python3"
  },
  "language_info": {
   "codemirror_mode": {
    "name": "ipython",
    "version": 3
   },
   "file_extension": ".py",
   "mimetype": "text/x-python",
   "name": "python",
   "nbconvert_exporter": "python",
   "pygments_lexer": "ipython3",
   "version": "3.6.9"
  }
 },
 "nbformat": 4,
 "nbformat_minor": 2
}
