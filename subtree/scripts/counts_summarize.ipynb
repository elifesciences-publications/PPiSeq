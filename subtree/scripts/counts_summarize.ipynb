{
 "cells": [
  {
   "cell_type": "code",
   "execution_count": null,
   "metadata": {},
   "outputs": [],
   "source": [
    "import numpy as np\n",
    "import pandas as pd\n",
    "import sqlite3\n",
    "import re\n",
    "import os\n",
    "import resource"
   ]
  },
  {
   "cell_type": "code",
   "execution_count": null,
   "metadata": {},
   "outputs": [],
   "source": [
    "#print(\"Opening a the counts SQLite database at `counts.sqlite` \")\n",
    "\n",
    "db_counts_summary = sqlite3.connect(\"counts_summary.sqlite\")\n",
    "db_counts_summary.execute(\"ATTACH DATABASE 'counts.sqlite' AS counts\")\n",
    "\n",
    "db_counts_summary.execute(\"\\\n",
    "        CREATE TABLE counts_summary AS \\\n",
    "        SELECT PPI,Experiment,SUM(COUNTS) AS sum_counts \\\n",
    "        FROM counts \\\n",
    "        GROUP BY PPI, Experiment\\\n",
    "    \")"
   ]
  },
  {
   "cell_type": "code",
   "execution_count": null,
   "metadata": {},
   "outputs": [],
   "source": [
    "pd.read_sql(\"SELECT * FROM counts_summary LIMIT 20\",db_counts_summary)"
   ]
  }
 ],
 "metadata": {
  "kernelspec": {
   "display_name": "Python 3",
   "language": "python",
   "name": "python3"
  },
  "language_info": {
   "codemirror_mode": {
    "name": "ipython",
    "version": 3
   },
   "file_extension": ".py",
   "mimetype": "text/x-python",
   "name": "python",
   "nbconvert_exporter": "python",
   "pygments_lexer": "ipython3",
   "version": "3.6.9"
  }
 },
 "nbformat": 4,
 "nbformat_minor": 2
}
