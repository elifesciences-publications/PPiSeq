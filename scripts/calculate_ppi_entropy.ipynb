{
 "cells": [
  {
   "cell_type": "code",
   "execution_count": 10,
   "metadata": {},
   "outputs": [],
   "source": [
    "import argparse\n",
    "import networkx as nx\n",
    "import numpy as np\n",
    "import matplotlib.pyplot as plt"
   ]
  },
  {
   "cell_type": "code",
   "execution_count": 27,
   "metadata": {},
   "outputs": [
    {
     "data": {
      "text/plain": [
       "<networkx.classes.multigraph.MultiGraph at 0x7fdebad22c50>"
      ]
     },
     "execution_count": 27,
     "metadata": {},
     "output_type": "execute_result"
    }
   ],
   "source": [
    "g = nx.read_gpickle(\"../tmp/condition_multigraph.nxp\")\n",
    "g"
   ]
  },
  {
   "cell_type": "code",
   "execution_count": 28,
   "metadata": {},
   "outputs": [],
   "source": [
    "interaction_entropies = dict()\n",
    "fitness_entropies = dict()\n",
    "\n",
    "for u in g.adj:\n",
    "    by_condition = {}\n",
    "    all_partners = []\n",
    "    for v in g.adj[u]:\n",
    "        all_partners.append(v)\n",
    "        datar = g.get_edge_data(u,v)\n",
    "        for id,each_edge in datar.items():\n",
    "            try:\n",
    "                by_condition[each_edge['condition']].append(float(each_edge['fitness']))\n",
    "            except:\n",
    "                by_condition[each_edge['condition']] = [float(each_edge['fitness'])]\n",
    "    max_interactions = 0\n",
    "    max_fitness_sum = 0\n",
    "    for condition in by_condition:\n",
    "        if len(by_condition[condition]) > max_interactions:\n",
    "            max_interactions = len(by_condition[condition])\n",
    "        if np.sum(by_condition[condition]) > max_fitness_sum:\n",
    "            max_fitness_sum = np.sum(by_condition[condition])\n",
    "    interaction_entropy = 0\n",
    "    for condition in by_condition:\n",
    "        frac = len(by_condition[condition]) / max_interactions\n",
    "        interaction_entropy += -frac*np.log2(frac)\n",
    "    interaction_entropies[u] = interaction_entropy\n",
    "    fitness_entropy = 0\n",
    "    for condition in by_condition:\n",
    "        frac = np.sum(by_condition[condition]) / max_fitness_sum\n",
    "        fitness_entropy += -frac*np.log2(frac)\n",
    "    fitness_entropies[u] = fitness_entropy"
   ]
  },
  {
   "cell_type": "code",
   "execution_count": 29,
   "metadata": {},
   "outputs": [
    {
     "data": {
      "image/png": "[encoded data removed]",
      "text/plain": [
       "<matplotlib.figure.Figure at 0x7fdebbcac7f0>"
      ]
     },
     "metadata": {
      "needs_background": "light"
     },
     "output_type": "display_data"
    }
   ],
   "source": [
    "hist = plt.figure()\n",
    "plt.hist([i for k,i in interaction_entropies.items()])\n",
    "#plt.semilogx()\n",
    "plt.title(\"Barplot of node degrees\")\n",
    "plt.ylabel(\"Count of nodes\")\n",
    "plt.xlabel(\"Degree of node\")\n",
    "hist.show()\n",
    "hist.savefig(\"../tmp/interaction_entropies_hist.png\")"
   ]
  },
  {
   "cell_type": "code",
   "execution_count": 30,
   "metadata": {
    "scrolled": true
   },
   "outputs": [
    {
     "data": {
      "image/png": "[encoded data removed]",
      "text/plain": [
       "<matplotlib.figure.Figure at 0x7fdebba1b9e8>"
      ]
     },
     "metadata": {
      "needs_background": "light"
     },
     "output_type": "display_data"
    }
   ],
   "source": [
    "hist = plt.figure()\n",
    "plt.hist([i for k,i in fitness_entropies.items()])\n",
    "#plt.semilogx()\n",
    "plt.title(\"Barplot of node degrees\")\n",
    "plt.ylabel(\"Count of nodes\")\n",
    "plt.xlabel(\"Degree of node\")\n",
    "hist.show()\n",
    "hist.savefig(\"../tmp/interaction_entropies_hist.png\")"
   ]
  },
  {
   "cell_type": "code",
   "execution_count": null,
   "metadata": {},
   "outputs": [],
   "source": [
    "pos = nx.layout.kamada_kawai_layout(g)"
   ]
  },
  {
   "cell_type": "code",
   "execution_count": null,
   "metadata": {},
   "outputs": [],
   "source": [
    "plt.figure(figsize=(16, 16))\n",
    "nodes = nx.draw_networkx_nodes(g, pos, node_size=0.1, node_color=[i for k,i in interaction_entropies.items()])\n",
    "edges = nx.draw_networkx_edges(g, pos, node_size=0.1, width=0.1)\n",
    "plt.show()"
   ]
  },
  {
   "cell_type": "code",
   "execution_count": null,
   "metadata": {},
   "outputs": [],
   "source": [
    "plt.figure(figsize=(16, 16))\n",
    "nodes = nx.draw_networkx_nodes(g, pos, node_size=0.1, node_color=[i for k,i in fitness_entropies.items()])\n",
    "edges = nx.draw_networkx_edges(g, pos, node_size=0.1, width=0.1)\n",
    "plt.show()"
   ]
  },
  {
   "cell_type": "code",
   "execution_count": null,
   "metadata": {},
   "outputs": [],
   "source": []
  }
 ],
 "metadata": {
  "kernelspec": {
   "display_name": "Python 3",
   "language": "python",
   "name": "python3"
  },
  "language_info": {
   "codemirror_mode": {
    "name": "ipython",
    "version": 3
   },
   "file_extension": ".py",
   "mimetype": "text/x-python",
   "name": "python",
   "nbconvert_exporter": "python",
   "pygments_lexer": "ipython3",
   "version": "3.6.8"
  }
 },
 "nbformat": 4,
 "nbformat_minor": 2
}
