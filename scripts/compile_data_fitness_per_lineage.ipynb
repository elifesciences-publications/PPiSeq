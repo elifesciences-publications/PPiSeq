{
 "cells": [
  {
   "cell_type": "code",
   "execution_count": null,
   "metadata": {},
   "outputs": [],
   "source": [
    "import numpy as np\n",
    "import pandas as pd\n",
    "import glob\n",
    "import sqlite3\n",
    "import re\n",
    "import os\n",
    "import resource"
   ]
  },
  {
   "cell_type": "code",
   "execution_count": null,
   "metadata": {},
   "outputs": [],
   "source": [
    "print(\"Opening a SQLite database at `lineage_fitness.sqlite` \")\n",
    "db_lf = sqlite3.connect(\"lineage_fitness.sqlite\")"
   ]
  },
  {
   "cell_type": "code",
   "execution_count": null,
   "metadata": {},
   "outputs": [],
   "source": [
    "def read_lineage_fitness(csv_path):\n",
    "    base_name = re.sub(\"_PPI_barcodes_fitness_counts.csv\",\"\",os.path.basename(csv_path))\n",
    "    print(\"Beginning to read and process lineage fitness of \",base_name)\n",
    "    this_datar = pd.read_csv(csv_path)\n",
    "    print(\"Read CSV for \",base_name)\n",
    "    this_datar.rename(columns={\n",
    "            \"Fitness_estimaion_error(d)\":\"Error\",\n",
    "            \"Fitness_estimaion_error\":\"Error\"\n",
    "        },inplace=True)\n",
    "    this_datar['index'] = this_datar.index\n",
    "    this_datar.drop(\n",
    "        [\"Number_of_Barcodes\",\"Barcode_sequences\"]+\n",
    "            list(this_datar.filter(regex=\"Counts_\")),\n",
    "        axis=1,inplace=True)\n",
    "    this_datar[\"Experiment\"] = base_name\n",
    "    print(this_datar)\n",
    "    return this_datar\n",
    "#,nrows=100)\\\n",
    "#for debugging, this makes it run quite a bit faster..."
   ]
  },
  {
   "cell_type": "code",
   "execution_count": null,
   "metadata": {},
   "outputs": [],
   "source": [
    "for this_csv in glob.glob('*_PPI_*.csv'):\n",
    "    with db_lf:\n",
    "        print('Memory usage: %s (kb)' % resource.getrusage(resource.RUSAGE_SELF).ru_maxrss)\n",
    "        read_lineage_fitness(this_csv)\\\n",
    "            .to_sql(\"lineage_fitness\",db_lf,if_exists=\"append\",chunksize=10000,index=False)\n",
    "\n",
    "print(\"Database on disk reports these heads for counts:\")\n",
    "print(pd.read_sql_query(\"SELECT * FROM lineage_fitness LIMIT 5\",db_lf))"
   ]
  }
 ],
 "metadata": {
  "kernelspec": {
   "display_name": "Python 3",
   "language": "python",
   "name": "python3"
  },
  "language_info": {
   "codemirror_mode": {
    "name": "ipython",
    "version": 3
   },
   "file_extension": ".py",
   "mimetype": "text/x-python",
   "name": "python",
   "nbconvert_exporter": "python",
   "pygments_lexer": "ipython3",
   "version": "3.6.9"
  }
 },
 "nbformat": 4,
 "nbformat_minor": 2
}
