{
 "cells": [
  {
   "cell_type": "code",
   "execution_count": null,
   "metadata": {},
   "outputs": [],
   "source": [
    "import numpy as np\n",
    "import pandas as pd\n",
    "import sqlite3\n",
    "import os"
   ]
  },
  {
   "cell_type": "code",
   "execution_count": null,
   "metadata": {},
   "outputs": [],
   "source": [
    "db_bd = sqlite3.connect(\"orf_features.sqlite\")\n",
    "\n",
    "with db_bd:\n",
    "    db_bd.execute('ATTACH DATABASE \"features.sqlite\" AS features')\n",
    "    db_bd.execute('ATTACH DATABASE \"sgd_go.sqlite\" AS sgd_go')\n",
    "    db_bd.execute('ATTACH DATABASE \"fitness.sqlite\" AS fitness')"
   ]
  },
  {
   "cell_type": "code",
   "execution_count": null,
   "metadata": {},
   "outputs": [],
   "source": [
    "print(pd.read_sql_query(\"SELECT * FROM ohnologs limit 5\",db_bd))\n",
    "print(pd.read_sql_query(\"SELECT Systematic,GO FROM sgd_go_map limit 5\",db_bd))\n",
    "print(pd.read_sql_query(\"SELECT * FROM n_positive limit 5\",db_bd))"
   ]
  },
  {
   "cell_type": "code",
   "execution_count": null,
   "metadata": {},
   "outputs": [],
   "source": [
    "with db_bd:\n",
    "    db_bd.execute(\"\\\n",
    "        CREATE TABLE membrane_table AS \\\n",
    "        SELECT * FROM \\\n",
    "            ( SELECT YORF AS Systematic FROM yorf_list ) \\\n",
    "        LEFT OUTER JOIN \\\n",
    "            ( SELECT DISTINCT Systematic,'membrane' AS Membrane FROM sgd_go_map \\\n",
    "                WHERE GO_desc=='membrane' ) \\\n",
    "        USING (Systematic) \\\n",
    "        \")\n",
    "\n",
    "    db_bd.execute(\"\\\n",
    "        UPDATE membrane_table \\\n",
    "        SET Membrane = 'non-membrane' WHERE Membrane IS NULL \\\n",
    "        \")\n",
    "\n",
    "pd.read_sql_query(\"\\\n",
    "        SELECT * FROM membrane_table LIMIT 10\\\n",
    "    \",db_bd)"
   ]
  },
  {
   "cell_type": "code",
   "execution_count": null,
   "metadata": {},
   "outputs": [],
   "source": [
    "with db_bd:\n",
    "    db_bd.execute(\"\\\n",
    "        CREATE TABLE main.per_orf AS \\\n",
    "        SELECT * FROM ( SELECT * FROM yorf_list) \\\n",
    "        LEFT OUTER JOIN \\\n",
    "            costanza2016 \\\n",
    "            USING (YORF) \\\n",
    "        LEFT OUTER JOIN \\\n",
    "            (SELECT YORF, MeanMol, MedianMol FROM ho2018) \\\n",
    "            USING (YORF) \\\n",
    "        LEFT OUTER JOIN \\\n",
    "            (SELECT * FROM biogrid_ptms) \\\n",
    "            USING (YORF) \\\n",
    "        LEFT OUTER JOIN \\\n",
    "            (SELECT *,Systematic AS YORF FROM membrane_table) \\\n",
    "            USING (YORF) \\\n",
    "        \")\n",
    "    db_bd.execute(\"\\\n",
    "        UPDATE per_orf \\\n",
    "            SET `Number.of.complexes` = 0 \\\n",
    "            WHERE `Number.of.complexes` IS NULL \\\n",
    "        \")"
   ]
  },
  {
   "cell_type": "code",
   "execution_count": null,
   "metadata": {},
   "outputs": [],
   "source": [
    "pd.read_sql_query(\"SELECT * FROM per_orf LIMIT 10\",db_bd)"
   ]
  },
  {
   "cell_type": "code",
   "execution_count": null,
   "metadata": {},
   "outputs": [],
   "source": [
    "pd.read_sql_query(\"SELECT * FROM per_orf LIMIT 10\",db_bd)"
   ]
  },
  {
   "cell_type": "code",
   "execution_count": null,
   "metadata": {},
   "outputs": [],
   "source": [
    "db_bd.close()"
   ]
  }
 ],
 "metadata": {
  "kernelspec": {
   "display_name": "Python 3",
   "language": "python",
   "name": "python3"
  },
  "language_info": {
   "codemirror_mode": {
    "name": "ipython",
    "version": 3
   },
   "file_extension": ".py",
   "mimetype": "text/x-python",
   "name": "python",
   "nbconvert_exporter": "python",
   "pygments_lexer": "ipython3",
   "version": "3.6.9"
  }
 },
 "nbformat": 4,
 "nbformat_minor": 2
}
